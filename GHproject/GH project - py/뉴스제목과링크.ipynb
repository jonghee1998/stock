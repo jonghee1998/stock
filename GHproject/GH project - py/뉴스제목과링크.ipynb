{
 "cells": [
  {
   "cell_type": "code",
   "execution_count": 14,
   "metadata": {},
   "outputs": [
    {
     "name": "stdout",
     "output_type": "stream",
     "text": [
      "1 페이지 입니다. ===========================\n",
      "다음달 하반기 대기업 채용 문 열린다…삼성 등 신입 공채 나서 https://www.yna.co.kr/view/AKR20230825139700003?input=1195m\n",
      "이찬희 \"삼성, 더는 흔들려선 안돼…강한 컨트롤타워 필요\" https://www.sedaily.com/NewsView/29TKJQPLTV\n",
      "日 출격 앞둔 삼성 갤럭시Z…도쿄 시부야에서 옥외광고 http://www.newsis.com/view/?id=NISX20230827_0002427525&cID=13005&pID=13100\n",
      "삼성·LG의 올레드 ‘오월동주’…그래서 누가 1등이죠? [방영덕의 디테일] https://www.mk.co.kr/article/10813341\n",
      "삼성은 '음식', LG는 '집'…유럽 최대 가전전시회 'IFA' 출격 http://www.newsis.com/view/?id=NISX20230825_0002426721&cID=13001&pID=13000\n",
      "그동안 숨겼지만…삼성, '아이폰 텃밭' 日공략 비장의 카드 꺼냈다 https://www.sedaily.com/NewsView/29TKKKZ9LL\n",
      "“근본은 가전”… 삼성·LG 독일 IFA 출격 https://www.seoul.co.kr/news/newsView.php?id=20230827500029&wlog_tag3=naver\n",
      "삼성과 의견교환은 했나…돌출발언 쏟아낸 이찬희 [김익환의 컴퍼니워치] https://www.hankyung.com/economy/article/202308271885i\n",
      "\"애플·구글 다 비켜\"…'삼성' 로고 박은 갤Z5, '아이폰 텃밭' 日서 일 낸다 http://www.inews24.com/view/1626594\n",
      "20대 기업 '현찰' 상반기 15조 급감...삼성전자는 17조 줄었다 https://www.joongang.co.kr/article/25187690\n"
     ]
    }
   ],
   "source": [
    "import requests\n",
    "from bs4 import BeautifulSoup\n",
    "import pyautogui\n",
    "import pandas as pd\n",
    "\n",
    "keyword = pyautogui.prompt(\"검색어를 입력하세요.\")\n",
    "lastpage = pyautogui.prompt(\"마지막 페이지번호를 입력해주세요\")\n",
    "\n",
    "data = []\n",
    "\n",
    "pageNum = 1\n",
    "for i in range(1, int(lastpage) * 10, 10):  \n",
    "    print(f\"{pageNum} 페이지 입니다. ===========================\")\n",
    "    response = requests.get(f\"https://search.naver.com/search.naver?sm=tab_hty.top&where=news&query={keyword}&start={i}\")\n",
    "    html = response.text\n",
    "    soup = BeautifulSoup(html, 'html.parser')\n",
    "    links = soup.select(\".news_tit\") # 결과는 리스트\n",
    "    for link in links:\n",
    "        title = link.text # 태그 안에 텍스트요소를 가져온다\n",
    "        url = link.attrs['href'] # href의 속성값을 가져온다\n",
    "        print(title, url)\n",
    "        data.append([title, url])\n",
    "    pageNum= pageNum +1\n",
    "    \n",
    "news = pd.DataFrame(data,columns=['Title', 'URL'])\n",
    "\n",
    "news.to_csv(\"C:\\\\Users\\\\yss06\\\\Desktop\\\\python\\\\loaded files\\\\naver_news.csv\", index=False, encoding=\"utf-8-sig\")"
   ]
  },
  {
   "cell_type": "code",
   "execution_count": 12,
   "metadata": {},
   "outputs": [
    {
     "name": "stdout",
     "output_type": "stream",
     "text": [
      "1 페이지 입니다. ===========================\n",
      "다음달 하반기 대기업 채용 문 열린다…삼성 등 신입 공채 나서 https://www.yna.co.kr/view/AKR20230825139700003?input=1195m\n",
      "이찬희 \"삼성, 더는 흔들려선 안돼…강한 컨트롤타워 필요\" https://www.sedaily.com/NewsView/29TKJQPLTV\n",
      "日 출격 앞둔 삼성 갤럭시Z…도쿄 시부야에서 옥외광고 http://www.newsis.com/view/?id=NISX20230827_0002427525&cID=13005&pID=13100\n",
      "삼성·LG의 올레드 ‘오월동주’…그래서 누가 1등이죠? [방영덕의 디테일] https://www.mk.co.kr/article/10813341\n",
      "삼성은 '음식', LG는 '집'…유럽 최대 가전전시회 'IFA' 출격 http://www.newsis.com/view/?id=NISX20230825_0002426721&cID=13001&pID=13000\n",
      "그동안 숨겼지만…삼성, '아이폰 텃밭' 日공략 비장의 카드 꺼냈다 https://www.sedaily.com/NewsView/29TKKKZ9LL\n",
      "“근본은 가전”… 삼성·LG 독일 IFA 출격 https://www.seoul.co.kr/news/newsView.php?id=20230827500029&wlog_tag3=naver\n",
      "삼성과 의견교환은 했나…돌출발언 쏟아낸 이찬희 [김익환의 컴퍼니워치] https://www.hankyung.com/economy/article/202308271885i\n",
      "\"애플·구글 다 비켜\"…'삼성' 로고 박은 갤Z5, '아이폰 텃밭' 日서 일 낸다 http://www.inews24.com/view/1626594\n",
      "20대 기업 '현찰' 상반기 15조 급감...삼성전자는 17조 줄었다 https://www.joongang.co.kr/article/25187690\n"
     ]
    },
    {
     "ename": "PermissionError",
     "evalue": "[Errno 13] Permission denied: 'naver_news.csv'",
     "output_type": "error",
     "traceback": [
      "\u001b[1;31m---------------------------------------------------------------------------\u001b[0m",
      "\u001b[1;31mPermissionError\u001b[0m                           Traceback (most recent call last)",
      "Cell \u001b[1;32mIn[12], line 27\u001b[0m\n\u001b[0;32m     23\u001b[0m     pageNum\u001b[39m=\u001b[39m pageNum \u001b[39m+\u001b[39m\u001b[39m1\u001b[39m\n\u001b[0;32m     25\u001b[0m news \u001b[39m=\u001b[39m pd\u001b[39m.\u001b[39mDataFrame(data,columns\u001b[39m=\u001b[39m[\u001b[39m'\u001b[39m\u001b[39mTitle\u001b[39m\u001b[39m'\u001b[39m, \u001b[39m'\u001b[39m\u001b[39mURL\u001b[39m\u001b[39m'\u001b[39m])\n\u001b[1;32m---> 27\u001b[0m news\u001b[39m.\u001b[39;49mto_csv(\u001b[39m\"\u001b[39;49m\u001b[39mnaver_news.csv\u001b[39;49m\u001b[39m\"\u001b[39;49m, index\u001b[39m=\u001b[39;49m\u001b[39mFalse\u001b[39;49;00m, encoding\u001b[39m=\u001b[39;49m\u001b[39m\"\u001b[39;49m\u001b[39mutf-8-sig\u001b[39;49m\u001b[39m\"\u001b[39;49m)\n",
      "File \u001b[1;32m~\\AppData\\Roaming\\Python\\Python311\\site-packages\\pandas\\core\\generic.py:3772\u001b[0m, in \u001b[0;36mNDFrame.to_csv\u001b[1;34m(self, path_or_buf, sep, na_rep, float_format, columns, header, index, index_label, mode, encoding, compression, quoting, quotechar, lineterminator, chunksize, date_format, doublequote, escapechar, decimal, errors, storage_options)\u001b[0m\n\u001b[0;32m   3761\u001b[0m df \u001b[39m=\u001b[39m \u001b[39mself\u001b[39m \u001b[39mif\u001b[39;00m \u001b[39misinstance\u001b[39m(\u001b[39mself\u001b[39m, ABCDataFrame) \u001b[39melse\u001b[39;00m \u001b[39mself\u001b[39m\u001b[39m.\u001b[39mto_frame()\n\u001b[0;32m   3763\u001b[0m formatter \u001b[39m=\u001b[39m DataFrameFormatter(\n\u001b[0;32m   3764\u001b[0m     frame\u001b[39m=\u001b[39mdf,\n\u001b[0;32m   3765\u001b[0m     header\u001b[39m=\u001b[39mheader,\n\u001b[1;32m   (...)\u001b[0m\n\u001b[0;32m   3769\u001b[0m     decimal\u001b[39m=\u001b[39mdecimal,\n\u001b[0;32m   3770\u001b[0m )\n\u001b[1;32m-> 3772\u001b[0m \u001b[39mreturn\u001b[39;00m DataFrameRenderer(formatter)\u001b[39m.\u001b[39;49mto_csv(\n\u001b[0;32m   3773\u001b[0m     path_or_buf,\n\u001b[0;32m   3774\u001b[0m     lineterminator\u001b[39m=\u001b[39;49mlineterminator,\n\u001b[0;32m   3775\u001b[0m     sep\u001b[39m=\u001b[39;49msep,\n\u001b[0;32m   3776\u001b[0m     encoding\u001b[39m=\u001b[39;49mencoding,\n\u001b[0;32m   3777\u001b[0m     errors\u001b[39m=\u001b[39;49merrors,\n\u001b[0;32m   3778\u001b[0m     compression\u001b[39m=\u001b[39;49mcompression,\n\u001b[0;32m   3779\u001b[0m     quoting\u001b[39m=\u001b[39;49mquoting,\n\u001b[0;32m   3780\u001b[0m     columns\u001b[39m=\u001b[39;49mcolumns,\n\u001b[0;32m   3781\u001b[0m     index_label\u001b[39m=\u001b[39;49mindex_label,\n\u001b[0;32m   3782\u001b[0m     mode\u001b[39m=\u001b[39;49mmode,\n\u001b[0;32m   3783\u001b[0m     chunksize\u001b[39m=\u001b[39;49mchunksize,\n\u001b[0;32m   3784\u001b[0m     quotechar\u001b[39m=\u001b[39;49mquotechar,\n\u001b[0;32m   3785\u001b[0m     date_format\u001b[39m=\u001b[39;49mdate_format,\n\u001b[0;32m   3786\u001b[0m     doublequote\u001b[39m=\u001b[39;49mdoublequote,\n\u001b[0;32m   3787\u001b[0m     escapechar\u001b[39m=\u001b[39;49mescapechar,\n\u001b[0;32m   3788\u001b[0m     storage_options\u001b[39m=\u001b[39;49mstorage_options,\n\u001b[0;32m   3789\u001b[0m )\n",
      "File \u001b[1;32m~\\AppData\\Roaming\\Python\\Python311\\site-packages\\pandas\\io\\formats\\format.py:1186\u001b[0m, in \u001b[0;36mDataFrameRenderer.to_csv\u001b[1;34m(self, path_or_buf, encoding, sep, columns, index_label, mode, compression, quoting, quotechar, lineterminator, chunksize, date_format, doublequote, escapechar, errors, storage_options)\u001b[0m\n\u001b[0;32m   1165\u001b[0m     created_buffer \u001b[39m=\u001b[39m \u001b[39mFalse\u001b[39;00m\n\u001b[0;32m   1167\u001b[0m csv_formatter \u001b[39m=\u001b[39m CSVFormatter(\n\u001b[0;32m   1168\u001b[0m     path_or_buf\u001b[39m=\u001b[39mpath_or_buf,\n\u001b[0;32m   1169\u001b[0m     lineterminator\u001b[39m=\u001b[39mlineterminator,\n\u001b[1;32m   (...)\u001b[0m\n\u001b[0;32m   1184\u001b[0m     formatter\u001b[39m=\u001b[39m\u001b[39mself\u001b[39m\u001b[39m.\u001b[39mfmt,\n\u001b[0;32m   1185\u001b[0m )\n\u001b[1;32m-> 1186\u001b[0m csv_formatter\u001b[39m.\u001b[39;49msave()\n\u001b[0;32m   1188\u001b[0m \u001b[39mif\u001b[39;00m created_buffer:\n\u001b[0;32m   1189\u001b[0m     \u001b[39massert\u001b[39;00m \u001b[39misinstance\u001b[39m(path_or_buf, StringIO)\n",
      "File \u001b[1;32m~\\AppData\\Roaming\\Python\\Python311\\site-packages\\pandas\\io\\formats\\csvs.py:240\u001b[0m, in \u001b[0;36mCSVFormatter.save\u001b[1;34m(self)\u001b[0m\n\u001b[0;32m    236\u001b[0m \u001b[39m\u001b[39m\u001b[39m\"\"\"\u001b[39;00m\n\u001b[0;32m    237\u001b[0m \u001b[39mCreate the writer & save.\u001b[39;00m\n\u001b[0;32m    238\u001b[0m \u001b[39m\"\"\"\u001b[39;00m\n\u001b[0;32m    239\u001b[0m \u001b[39m# apply compression and byte/text conversion\u001b[39;00m\n\u001b[1;32m--> 240\u001b[0m \u001b[39mwith\u001b[39;00m get_handle(\n\u001b[0;32m    241\u001b[0m     \u001b[39mself\u001b[39;49m\u001b[39m.\u001b[39;49mfilepath_or_buffer,\n\u001b[0;32m    242\u001b[0m     \u001b[39mself\u001b[39;49m\u001b[39m.\u001b[39;49mmode,\n\u001b[0;32m    243\u001b[0m     encoding\u001b[39m=\u001b[39;49m\u001b[39mself\u001b[39;49m\u001b[39m.\u001b[39;49mencoding,\n\u001b[0;32m    244\u001b[0m     errors\u001b[39m=\u001b[39;49m\u001b[39mself\u001b[39;49m\u001b[39m.\u001b[39;49merrors,\n\u001b[0;32m    245\u001b[0m     compression\u001b[39m=\u001b[39;49m\u001b[39mself\u001b[39;49m\u001b[39m.\u001b[39;49mcompression,\n\u001b[0;32m    246\u001b[0m     storage_options\u001b[39m=\u001b[39;49m\u001b[39mself\u001b[39;49m\u001b[39m.\u001b[39;49mstorage_options,\n\u001b[0;32m    247\u001b[0m ) \u001b[39mas\u001b[39;00m handles:\n\u001b[0;32m    248\u001b[0m     \u001b[39m# Note: self.encoding is irrelevant here\u001b[39;00m\n\u001b[0;32m    249\u001b[0m     \u001b[39mself\u001b[39m\u001b[39m.\u001b[39mwriter \u001b[39m=\u001b[39m csvlib\u001b[39m.\u001b[39mwriter(\n\u001b[0;32m    250\u001b[0m         handles\u001b[39m.\u001b[39mhandle,\n\u001b[0;32m    251\u001b[0m         lineterminator\u001b[39m=\u001b[39m\u001b[39mself\u001b[39m\u001b[39m.\u001b[39mlineterminator,\n\u001b[1;32m   (...)\u001b[0m\n\u001b[0;32m    256\u001b[0m         quotechar\u001b[39m=\u001b[39m\u001b[39mself\u001b[39m\u001b[39m.\u001b[39mquotechar,\n\u001b[0;32m    257\u001b[0m     )\n\u001b[0;32m    259\u001b[0m     \u001b[39mself\u001b[39m\u001b[39m.\u001b[39m_save()\n",
      "File \u001b[1;32m~\\AppData\\Roaming\\Python\\Python311\\site-packages\\pandas\\io\\common.py:859\u001b[0m, in \u001b[0;36mget_handle\u001b[1;34m(path_or_buf, mode, encoding, compression, memory_map, is_text, errors, storage_options)\u001b[0m\n\u001b[0;32m    854\u001b[0m \u001b[39melif\u001b[39;00m \u001b[39misinstance\u001b[39m(handle, \u001b[39mstr\u001b[39m):\n\u001b[0;32m    855\u001b[0m     \u001b[39m# Check whether the filename is to be opened in binary mode.\u001b[39;00m\n\u001b[0;32m    856\u001b[0m     \u001b[39m# Binary mode does not support 'encoding' and 'newline'.\u001b[39;00m\n\u001b[0;32m    857\u001b[0m     \u001b[39mif\u001b[39;00m ioargs\u001b[39m.\u001b[39mencoding \u001b[39mand\u001b[39;00m \u001b[39m\"\u001b[39m\u001b[39mb\u001b[39m\u001b[39m\"\u001b[39m \u001b[39mnot\u001b[39;00m \u001b[39min\u001b[39;00m ioargs\u001b[39m.\u001b[39mmode:\n\u001b[0;32m    858\u001b[0m         \u001b[39m# Encoding\u001b[39;00m\n\u001b[1;32m--> 859\u001b[0m         handle \u001b[39m=\u001b[39m \u001b[39mopen\u001b[39;49m(\n\u001b[0;32m    860\u001b[0m             handle,\n\u001b[0;32m    861\u001b[0m             ioargs\u001b[39m.\u001b[39;49mmode,\n\u001b[0;32m    862\u001b[0m             encoding\u001b[39m=\u001b[39;49mioargs\u001b[39m.\u001b[39;49mencoding,\n\u001b[0;32m    863\u001b[0m             errors\u001b[39m=\u001b[39;49merrors,\n\u001b[0;32m    864\u001b[0m             newline\u001b[39m=\u001b[39;49m\u001b[39m\"\u001b[39;49m\u001b[39m\"\u001b[39;49m,\n\u001b[0;32m    865\u001b[0m         )\n\u001b[0;32m    866\u001b[0m     \u001b[39melse\u001b[39;00m:\n\u001b[0;32m    867\u001b[0m         \u001b[39m# Binary mode\u001b[39;00m\n\u001b[0;32m    868\u001b[0m         handle \u001b[39m=\u001b[39m \u001b[39mopen\u001b[39m(handle, ioargs\u001b[39m.\u001b[39mmode)\n",
      "\u001b[1;31mPermissionError\u001b[0m: [Errno 13] Permission denied: 'naver_news.csv'"
     ]
    }
   ],
   "source": [
    "import requests\n",
    "from bs4 import BeautifulSoup\n",
    "import pyautogui\n",
    "import pandas as pd\n",
    "\n",
    "keyword = pyautogui.prompt(\"검색어를 입력하세요.\")\n",
    "lastpage = pyautogui.prompt(\"마지막 페이지번호를 입력해주세요\")\n",
    "\n",
    "data = []\n",
    "\n",
    "pageNum = 1\n",
    "for i in range(1, int(lastpage) * 10, 10):  \n",
    "    print(f\"{pageNum} 페이지 입니다. ===========================\")\n",
    "    response = requests.get(f\"https://search.naver.com/search.naver?sm=tab_hty.top&where=news&query={keyword}&start={i}\")\n",
    "    html = response.text\n",
    "    soup = BeautifulSoup(html, 'html.parser')\n",
    "    links = soup.select(\".news_tit\") # 결과는 리스트\n",
    "    for link in links:\n",
    "        title = link.text # 태그 안에 텍스트요소를 가져온다\n",
    "        url = link.attrs['href'] # href의 속성값을 가져온다\n",
    "        print(title, url)\n",
    "        data.append([title, url])  # 여기서 데이터를 추가합니다.\n",
    "    pageNum= pageNum +1\n",
    "    \n",
    "news = pd.DataFrame(data,columns=['Title', 'URL'])\n",
    "\n",
    "news.to_csv(\"C:\\\\Users\\\\yss06\\\\Desktop\\\\python\\\\loaded files\\\\naver_news.csv\", index=False, encoding=\"utf-8-sig\")\n"
   ]
  }
 ],
 "metadata": {
  "kernelspec": {
   "display_name": "Python 3",
   "language": "python",
   "name": "python3"
  },
  "language_info": {
   "codemirror_mode": {
    "name": "ipython",
    "version": 3
   },
   "file_extension": ".py",
   "mimetype": "text/x-python",
   "name": "python",
   "nbconvert_exporter": "python",
   "pygments_lexer": "ipython3",
   "version": "3.11.5"
  },
  "orig_nbformat": 4
 },
 "nbformat": 4,
 "nbformat_minor": 2
}
