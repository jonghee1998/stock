{
 "cells": [
  {
   "cell_type": "code",
   "execution_count": 17,
   "metadata": {},
   "outputs": [
    {
     "ename": "TypeError",
     "evalue": "int() argument must be a string, a bytes-like object or a real number, not 'NoneType'",
     "output_type": "error",
     "traceback": [
      "\u001b[1;31m---------------------------------------------------------------------------\u001b[0m",
      "\u001b[1;31mTypeError\u001b[0m                                 Traceback (most recent call last)",
      "Cell \u001b[1;32mIn[17], line 12\u001b[0m\n\u001b[0;32m      9\u001b[0m data \u001b[39m=\u001b[39m []\n\u001b[0;32m     11\u001b[0m pageNum \u001b[39m=\u001b[39m \u001b[39m1\u001b[39m\n\u001b[1;32m---> 12\u001b[0m \u001b[39mfor\u001b[39;00m i \u001b[39min\u001b[39;00m \u001b[39mrange\u001b[39m(\u001b[39m1\u001b[39m, \u001b[39mint\u001b[39;49m(lastpage) \u001b[39m*\u001b[39m \u001b[39m10\u001b[39m, \u001b[39m10\u001b[39m):  \n\u001b[0;32m     13\u001b[0m     \u001b[39mprint\u001b[39m(\u001b[39mf\u001b[39m\u001b[39m\"\u001b[39m\u001b[39m{\u001b[39;00mpageNum\u001b[39m}\u001b[39;00m\u001b[39m 페이지 입니다. ===========================\u001b[39m\u001b[39m\"\u001b[39m)\n\u001b[0;32m     14\u001b[0m     response \u001b[39m=\u001b[39m requests\u001b[39m.\u001b[39mget(\u001b[39mf\u001b[39m\u001b[39m\"\u001b[39m\u001b[39mhttps://search.naver.com/search.naver?sm=tab_hty.top&where=news&query=\u001b[39m\u001b[39m{\u001b[39;00mkeyword\u001b[39m}\u001b[39;00m\u001b[39m&start=\u001b[39m\u001b[39m{\u001b[39;00mi\u001b[39m}\u001b[39;00m\u001b[39m\"\u001b[39m)\n",
      "\u001b[1;31mTypeError\u001b[0m: int() argument must be a string, a bytes-like object or a real number, not 'NoneType'"
     ]
    }
   ],
   "source": [
    "import requests\n",
    "from bs4 import BeautifulSoup\n",
    "import pyautogui\n",
    "import pandas as pd\n",
    "\n",
    "keyword = pyautogui.prompt(\"검색어를 입력하세요.\")\n",
    "lastpage = pyautogui.prompt(\"마지막 페이지번호를 입력해주세요\")\n",
    "\n",
    "data = []\n",
    "\n",
    "pageNum = 1\n",
    "for i in range(1, int(lastpage) * 10, 10):  \n",
    "    print(f\"{pageNum} 페이지 입니다. ===========================\")\n",
    "    response = requests.get(f\"https://search.naver.com/search.naver?sm=tab_hty.top&where=news&query={keyword}&start={i}\")\n",
    "    html = response.text\n",
    "    soup = BeautifulSoup(html, 'html.parser')\n",
    "    links = soup.select(\".news_tit\") # 결과는 리스트\n",
    "    for link in links:\n",
    "        title = link.text # 태그 안에 텍스트요소를 가져온다\n",
    "        url = link.attrs['href'] # href의 속성값을 가져온다\n",
    "        print(title, url)\n",
    "        data.append([title, url])\n",
    "    pageNum= pageNum +1\n",
    "    \n",
    "news = pd.DataFrame(data,columns=['Title', 'URL'])\n",
    "\n",
    "news.to_csv(\"C:\\\\Users\\\\yss06\\\\Desktop\\\\python\\\\loaded files\\\\naver_news.csv\", index=False, encoding=\"utf-8-sig\")"
   ]
  }
 ],
 "metadata": {
  "kernelspec": {
   "display_name": "Python 3",
   "language": "python",
   "name": "python3"
  },
  "language_info": {
   "codemirror_mode": {
    "name": "ipython",
    "version": 3
   },
   "file_extension": ".py",
   "mimetype": "text/x-python",
   "name": "python",
   "nbconvert_exporter": "python",
   "pygments_lexer": "ipython3",
   "version": "3.11.5"
  },
  "orig_nbformat": 4
 },
 "nbformat": 4,
 "nbformat_minor": 2
}
