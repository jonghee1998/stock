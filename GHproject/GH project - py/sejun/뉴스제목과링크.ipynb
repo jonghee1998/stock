{
 "cells": [
  {
   "cell_type": "code",
   "execution_count": 18,
   "metadata": {},
   "outputs": [
    {
     "name": "stdout",
     "output_type": "stream",
     "text": [
      "1 페이지 입니다. ===========================\n",
      "\"폴드5 대화면으로 롤 한다\"…삼성, 갤럭시 폴드컵 성료 http://www.newsis.com/view/?id=NISX20230828_0002427796&cID=13005&pID=13100\n",
      "[영상] “우리집 전체가 다 삼성”…손흥민이 ‘집돌이’인 진짜 이유는? http://news.heraldcorp.com/view.php?ud=20230828000168\n",
      "다음달 하반기 대기업 채용 문 열린다…삼성 등 신입 공채 나서 https://www.yna.co.kr/view/AKR20230825139700003?input=1195m\n",
      "갤럭시Z 플립5 日 출시 앞둔 삼성전자, 도쿄 시부야에 옥외광고 http://www.edaily.co.kr/news/newspath.asp?newsid=01236566635711584\n",
      "‘R&D 분야 외국인 경력 채용’ 깃발 올린 삼성 https://news.kmib.co.kr/article/view.asp?arcid=0018607652&code=61141411&cp=nv\n",
      "삼성·LG의 올레드 ‘오월동주’…그래서 누가 1등이죠? [방영덕의 디테일] https://www.mk.co.kr/article/10813341\n",
      "한종희 삼성전자 부회장, 2년 연속 100대 CEO 1위 https://economist.co.kr/article/view/ecn202308210005\n",
      "\"엔디비아 신제품 놓칠 수 없다\"… 삼성전자 공들이는 이유 https://biz.newdaily.co.kr/site/data/html/2023/08/28/2023082800077.html\n",
      "삼성, 컨트롤타워 또 뜨거운 감자…\"찬반 논리도 팽팽\" http://www.newsis.com/view/?id=NISX20230828_0002428015&cID=13001&pID=13000\n",
      "삼성·SK·현대차·LG…쏟아지는 채용공고, 문턱은 높아졌다 https://www.hankyung.com/economy/article/2023082724381\n"
     ]
    }
   ],
   "source": [
    "import requests\n",
    "from bs4 import BeautifulSoup\n",
    "import pyautogui\n",
    "import pandas as pd\n",
    "\n",
    "keyword = pyautogui.prompt(\"검색어를 입력하세요.\")\n",
    "lastpage = pyautogui.prompt(\"마지막 페이지번호를 입력해주세요\")\n",
    "\n",
    "data = []\n",
    "\n",
    "pageNum = 1\n",
    "for i in range(1, int(lastpage) * 10, 10):  \n",
    "    print(f\"{pageNum} 페이지 입니다. ===========================\")\n",
    "    response = requests.get(f\"https://search.naver.com/search.naver?sm=tab_hty.top&where=news&query={keyword}&start={i}\")\n",
    "    html = response.text\n",
    "    soup = BeautifulSoup(html, 'html.parser')\n",
    "    links = soup.select(\".news_tit\") # 결과는 리스트\n",
    "    for link in links:\n",
    "        title = link.text # 태그 안에 텍스트요소를 가져온다\n",
    "        url = link.attrs['href'] # href의 속성값을 가져온다\n",
    "        print(title, url)\n",
    "        data.append([title, url])\n",
    "    pageNum= pageNum +1\n",
    "    \n",
    "news = pd.DataFrame(data,columns=['Title', 'URL'])\n",
    "\n",
    "news.to_csv(\"C:\\\\Users\\\\yss06\\\\Desktop\\\\python\\\\loaded files\\\\naver_news.csv\", index=False, encoding=\"utf-8-sig\")"
   ]
  }
 ],
 "metadata": {
  "kernelspec": {
   "display_name": "Python 3",
   "language": "python",
   "name": "python3"
  },
  "language_info": {
   "codemirror_mode": {
    "name": "ipython",
    "version": 3
   },
   "file_extension": ".py",
   "mimetype": "text/x-python",
   "name": "python",
   "nbconvert_exporter": "python",
   "pygments_lexer": "ipython3",
   "version": "3.11.5"
  },
  "orig_nbformat": 4
 },
 "nbformat": 4,
 "nbformat_minor": 2
}
